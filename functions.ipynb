{
  "nbformat": 4,
  "nbformat_minor": 0,
  "metadata": {
    "colab": {
      "name": "functions.ipynb",
      "provenance": [],
      "authorship_tag": "ABX9TyPRTX6AFJ3vxE65/H6SOiI4",
      "include_colab_link": true
    },
    "kernelspec": {
      "name": "python3",
      "display_name": "Python 3"
    },
    "language_info": {
      "name": "python"
    }
  },
  "cells": [
    {
      "cell_type": "markdown",
      "metadata": {
        "id": "view-in-github",
        "colab_type": "text"
      },
      "source": [
        "<a href=\"https://colab.research.google.com/github/suhruth27/python_new/blob/mod-2/functions.ipynb\" target=\"_parent\"><img src=\"https://colab.research.google.com/assets/colab-badge.svg\" alt=\"Open In Colab\"/></a>"
      ]
    },
    {
      "cell_type": "code",
      "execution_count": null,
      "metadata": {
        "colab": {
          "base_uri": "https://localhost:8080/"
        },
        "id": "sjwhGIguXL_C",
        "outputId": "5adb20bb-173f-47de-8f1e-3b92446c817e"
      },
      "outputs": [
        {
          "output_type": "stream",
          "name": "stdout",
          "text": [
            "hemanth\n",
            "jash\n",
            "deepya\n"
          ]
        }
      ],
      "source": [
        "def ant():\n",
        "    print(\"hemanth\")\n",
        "    print(\"jash\")\n",
        "    print(\"deepya\")\n",
        "ant()"
      ]
    },
    {
      "cell_type": "code",
      "source": [
        "def my_function(fname):\n",
        "  print(fname + \" 123\")\n",
        "\n",
        "my_function(\"suhruth\")\n",
        "my_function(\"hemanth\")\n",
        "my_function(\"jash\")"
      ],
      "metadata": {
        "colab": {
          "base_uri": "https://localhost:8080/"
        },
        "id": "VQZfxwUHYmvs",
        "outputId": "c529a1b8-a2e4-43a9-a1d2-b5666bc66e84"
      },
      "execution_count": null,
      "outputs": [
        {
          "output_type": "stream",
          "name": "stdout",
          "text": [
            "suhruth 123\n",
            "hemanth 123\n",
            "jash 123\n"
          ]
        }
      ]
    },
    {
      "cell_type": "code",
      "source": [
        "def my_function(fname, lname):\n",
        "  print(fname + \" \" + lname)\n",
        "\n",
        "my_function(\"suhruth\", \"yenneti\")\n"
      ],
      "metadata": {
        "colab": {
          "base_uri": "https://localhost:8080/"
        },
        "id": "B5ePpHtbZP7L",
        "outputId": "c33d3098-ef62-438c-ec39-006a90b90a40"
      },
      "execution_count": null,
      "outputs": [
        {
          "output_type": "stream",
          "name": "stdout",
          "text": [
            "suhruth yenneti\n"
          ]
        }
      ]
    },
    {
      "cell_type": "code",
      "source": [
        "def voting(name, age, gender):\n",
        "    print(name + \" \" + age + \" \" + gender + \" \" )\n",
        "voting(\"Suhruth\", \"18\", \"male\")"
      ],
      "metadata": {
        "colab": {
          "base_uri": "https://localhost:8080/"
        },
        "id": "WIbsadyyarxq",
        "outputId": "ae101891-1474-40f2-9cf3-fa3b834f6960"
      },
      "execution_count": null,
      "outputs": [
        {
          "output_type": "stream",
          "name": "stdout",
          "text": [
            "Suhruth 18 male \n"
          ]
        }
      ]
    },
    {
      "cell_type": "code",
      "source": [
        "def my_function(child2, child1):\n",
        "  print(\"The youngest child is \" + child2)\n",
        "\n",
        "my_function(child1 = input(\"enter name: \"), child2 = input(\"enter name: \"))\n"
      ],
      "metadata": {
        "colab": {
          "base_uri": "https://localhost:8080/"
        },
        "id": "LnT-nBfMcryc",
        "outputId": "21982089-c589-47c6-f224-ac6ac9c77e64"
      },
      "execution_count": null,
      "outputs": [
        {
          "output_type": "stream",
          "name": "stdout",
          "text": [
            "enter name: sampath\n",
            "enter name: hemanth\n",
            "The youngest child is hemanth\n"
          ]
        }
      ]
    },
    {
      "cell_type": "code",
      "source": [
        "def voting(name, age, gender):\n",
        "    if age>=18:\n",
        "        print(name + \" \" + str(age) + \" \" + gender + \" \" )\n",
        "    else:\n",
        "        print(\"Not eligible\")\n",
        "voting(str(input()), int(input()), str(input()))\n"
      ],
      "metadata": {
        "colab": {
          "base_uri": "https://localhost:8080/"
        },
        "id": "lrAl5oi6f4A6",
        "outputId": "c3aad5e4-6a44-4ba6-d1cd-f9aac01c6eab"
      },
      "execution_count": null,
      "outputs": [
        {
          "output_type": "stream",
          "name": "stdout",
          "text": [
            "suhruth\n",
            "18\n",
            "male\n",
            "suhruth 18 male \n"
          ]
        }
      ]
    },
    {
      "cell_type": "code",
      "source": [
        ""
      ],
      "metadata": {
        "id": "9CMhLTeqhxRi"
      },
      "execution_count": null,
      "outputs": []
    }
  ]
}