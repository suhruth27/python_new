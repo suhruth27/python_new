{
  "nbformat": 4,
  "nbformat_minor": 0,
  "metadata": {
    "colab": {
      "name": "string.ipynb",
      "provenance": [],
      "collapsed_sections": [],
      "authorship_tag": "ABX9TyMoBZofqNj/GZ3WRMY440f4",
      "include_colab_link": true
    },
    "kernelspec": {
      "name": "python3",
      "display_name": "Python 3"
    },
    "language_info": {
      "name": "python"
    }
  },
  "cells": [
    {
      "cell_type": "markdown",
      "metadata": {
        "id": "view-in-github",
        "colab_type": "text"
      },
      "source": [
        "<a href=\"https://colab.research.google.com/github/suhruth27/python_new/blob/mod-2/string.ipynb\" target=\"_parent\"><img src=\"https://colab.research.google.com/assets/colab-badge.svg\" alt=\"Open In Colab\"/></a>"
      ]
    },
    {
      "cell_type": "code",
      "execution_count": null,
      "metadata": {
        "colab": {
          "base_uri": "https://localhost:8080/"
        },
        "id": "SM3l39mF9JN6",
        "outputId": "1f17cd22-fcb9-4cec-c6ba-9404ca18cc20"
      },
      "outputs": [
        {
          "output_type": "stream",
          "name": "stdout",
          "text": [
            "i am suhruth coming from pandurangapuram by bus, i am reaching gitam, i have lab at 9\n",
            "m\n",
            "85\n",
            "s\n",
            "u\n",
            "h\n",
            "r\n",
            "u\n",
            "t\n",
            "h\n",
            "True\n",
            "True\n",
            "am \n",
            "i am \n",
            "am suhruth coming from pandurangapuram by bus, i am reaching gitam, i have lab at 9\n",
            "True True\n",
            " at\n"
          ]
        }
      ],
      "source": [
        "a='i am suhruth coming from pandurangapuram by bus, i am reaching gitam, i have lab at 9'\n",
        "print(a)\n",
        "print(a[3])\n",
        "print(len(a)) #length of string\n",
        "for x in 'suhruth':\n",
        "  print(x) \n",
        "print(\"from\" in a) #checking a string is existing or not\n",
        "#if not\n",
        "print(\"dont\" not in a)\n",
        "print(a[2:5])\n",
        "print(a[:5])\n",
        "print(a[2:])\n",
        "print(\"from\" in a,\"dont\" not in a)\n",
        "print(a[-5:-2]) #negative indexing\n"
      ]
    },
    {
      "cell_type": "code",
      "source": [
        "#slicing\n",
        "b=\"i went to ,RRR movie\"\n",
        "print(b[2:5])\n",
        "print(b[:5])\n",
        "print(b[2:])\n",
        "print(b[-5:-2]) #negative indexing\n",
        "#upper case lower case\n",
        "print(b.upper())\n",
        "print(b.lower())\n",
        "#removing spaces before and after string\n",
        "print(b.strip())\n",
        "#replacing letters\n",
        "print(b.replace(\"R\", \"K\"))\n",
        "#splitting\n",
        "print(b.split(\",\"))"
      ],
      "metadata": {
        "colab": {
          "base_uri": "https://localhost:8080/"
        },
        "id": "ToY-oXmlF9aH",
        "outputId": "c2e1f64c-c954-4027-95f3-010743b7005a"
      },
      "execution_count": null,
      "outputs": [
        {
          "output_type": "stream",
          "name": "stdout",
          "text": [
            "wen\n",
            "i wen\n",
            "went to ,RRR movie\n",
            "mov\n",
            "I WENT TO ,RRR MOVIE\n",
            "i went to ,rrr movie\n",
            "i went to ,RRR movie\n",
            "i went to ,KKK movie\n",
            "['i went to ', 'RRR movie']\n",
            "FireWater\n"
          ]
        }
      ]
    },
    {
      "cell_type": "code",
      "source": [
        "#String Concatenation\n",
        "a = \"Fire\"\n",
        "b = \"Water\"\n",
        "c = a + b\n",
        "print(c)\n",
        "#we cannot add string and integer"
      ],
      "metadata": {
        "colab": {
          "base_uri": "https://localhost:8080/"
        },
        "id": "NJLak55MKTjR",
        "outputId": "41abdcc3-a422-4e5d-bed8-ad0d590737e2"
      },
      "execution_count": null,
      "outputs": [
        {
          "output_type": "stream",
          "name": "stdout",
          "text": [
            "FireWater\n"
          ]
        }
      ]
    },
    {
      "cell_type": "code",
      "source": [
        "#string format\n",
        "age = 36\n",
        "txt = \"My name is John, and I am {}\"\n",
        "print(txt.format(age))\n",
        "\n",
        "quantity = 3\n",
        "itemno = 567\n",
        "price = 49.95\n",
        "myorder = \"I want {} pieces of item {} for {} dollars.\"\n",
        "print(myorder.format(quantity, itemno, price))"
      ],
      "metadata": {
        "colab": {
          "base_uri": "https://localhost:8080/"
        },
        "id": "4D0k6K9GK0LH",
        "outputId": "a154e196-4e02-45d8-d516-265b4535d3c7"
      },
      "execution_count": null,
      "outputs": [
        {
          "output_type": "stream",
          "name": "stdout",
          "text": [
            "My name is John, and I am 36\n",
            "I want 3 pieces of item 567 for 49.95 dollars.\n"
          ]
        }
      ]
    }
  ]
}