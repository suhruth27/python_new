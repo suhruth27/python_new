{
  "nbformat": 4,
  "nbformat_minor": 0,
  "metadata": {
    "colab": {
      "name": "Module1.ipynb",
      "provenance": [],
      "authorship_tag": "ABX9TyMrze4xjnwQuhzPNz7dwqNh",
      "include_colab_link": true
    },
    "kernelspec": {
      "name": "python3",
      "display_name": "Python 3"
    },
    "language_info": {
      "name": "python"
    }
  },
  "cells": [
    {
      "cell_type": "markdown",
      "metadata": {
        "id": "view-in-github",
        "colab_type": "text"
      },
      "source": [
        "<a href=\"https://colab.research.google.com/github/suhruth27/python_new/blob/mod-1/Module1.ipynb\" target=\"_parent\"><img src=\"https://colab.research.google.com/assets/colab-badge.svg\" alt=\"Open In Colab\"/></a>"
      ]
    },
    {
      "cell_type": "code",
      "execution_count": null,
      "metadata": {
        "id": "_4pn_pngvSTU"
      },
      "outputs": [],
      "source": [
        "\n",
        "# Accept input from user and store it in variable and print the value\n",
        "a=int(input(\"enter a number: \"))\n",
        "print(a)\n",
        "a=46\n",
        "print(a)"
      ]
    },
    {
      "cell_type": "code",
      "source": [
        "\n",
        "#Use of print statements and use of (.format )for printing different data types\n",
        "a=\"my name is {name}, and iam in {place} now.\".format(name=\"suhruth\",place=\"CMR central\")\n",
        "print(a)"
      ],
      "metadata": {
        "id": "jcYfhzEhvbiH"
      },
      "execution_count": null,
      "outputs": []
    },
    {
      "cell_type": "code",
      "source": [
        "\n",
        "# Take 2 numbers as user input and add, multiply, divide, subtract, remainder and print\n",
        "# the output (Same operations on floating point input as well)\n",
        "a=int(input(\"enter first number: \"))\n",
        "b=int(input(\"enter second number: \"))\n",
        "add=a+b\n",
        "sub=a-b\n",
        "mul=a*b\n",
        "div=a//b\n",
        "rem=a%b\n",
        "print(\"addition= \",add)\n",
        "print(\"subtract= \",sub)\n",
        "print(\"multiply= \",mul)\n",
        "print(\"division= \",div)\n",
        "print(\"remainder= \",rem)"
      ],
      "metadata": {
        "id": "VXICHBsWvi_s"
      },
      "execution_count": null,
      "outputs": []
    },
    {
      "cell_type": "code",
      "source": [
        "\n",
        "#Conversion of one unit to another (such as hours to minutes, miles to km and etc)\n",
        "a=float(input(\"enter hours: \"))\n",
        "print(\"hours to minutes= \",a*60)\n",
        "b=float(input(\"enter miles= \"))\n",
        "print(\"miles to km= \",b*1.5)"
      ],
      "metadata": {
        "id": "hjO1994yvmBr"
      },
      "execution_count": null,
      "outputs": []
    },
    {
      "cell_type": "code",
      "source": [
        "\n",
        "#Usage of mathematical functions in python like math.ceil, floor, fabs, fmod, trunc,\n",
        "#pow, sqrt etc.\n",
        "import math\n",
        "a=float(input(\"enter a number: \"))\n",
        "b=float(input(\"enter second number: \"))\n",
        "print(math.ceil(a))\n",
        "print(math.floor(a))\n",
        "print(math.fabs(a))\n",
        "print(math.fmod(a,b))\n",
        "print(math.trunc(a))\n",
        "print(math.pow(3,3))\n",
        "print(math.sqrt(9))"
      ],
      "metadata": {
        "id": "sw1gqdiivpHi"
      },
      "execution_count": null,
      "outputs": []
    },
    {
      "cell_type": "code",
      "source": [
        "\n",
        "# Building a mathematical calculator that can perform operations according to user input.\n",
        "# Use decision making statement.\n",
        "a=int(input(\"enter first number: \"))\n",
        "b=int(input(\"enter second number: \"))\n",
        "operation=str(input(\"enter operation to be performed: \"))\n",
        "if(operation==\"add\"):\n",
        "  print(a+b)\n",
        "elif(operation==\"sub\"):\n",
        "  print(a-b)\n",
        "elif(operation==\"mul\"):\n",
        "  print(a*b)\n",
        "elif(operation==\"div\"):\n",
        "  print(a//b)\n",
        "elif(operation==\"rem\"):\n",
        "  print(a%b)\n",
        "else:\n",
        "  print(\"enter a valid operation\")"
      ],
      "metadata": {
        "id": "8o9kuO9xvr0j"
      },
      "execution_count": null,
      "outputs": []
    },
    {
      "cell_type": "code",
      "source": [
        "# Printing all even numbers, odd numbers, count of even numbers, count of odd numbers\n",
        "# within a given range.\n",
        "n=int(input(\"enter a range: \"))\n",
        "print(\"even numbers: \")\n",
        "c=0\n",
        "for i in range(1,n+1):\n",
        "  if(i%2==0):\n",
        "    c+=1\n",
        "    print(i)\n",
        "print(\"no of even numbers are: \",c)\n",
        "print(\"odd numbers: \")\n",
        "d=0\n",
        "for j in range(1,n+1):\n",
        "  if(j%2!=0):\n",
        "    d+=1\n",
        "    print(j)\n",
        "print(\"no of odd numbers are: \",d)"
      ],
      "metadata": {
        "id": "5M79KKenvvTc"
      },
      "execution_count": null,
      "outputs": []
    },
    {
      "cell_type": "code",
      "source": [
        "# Compute the factorial of a given number. b) Compute GCD of two given\n",
        "# numbers. c) Generate Fibonacci series up to N numbers.\n",
        "# factoriaL\n",
        "a=int(input(\"enter a number: \"))\n",
        "f=1\n",
        "for i in range(1,a+1):\n",
        "  f=f*i\n",
        "print(f)"
      ],
      "metadata": {
        "id": "eLlABjxNv6cx"
      },
      "execution_count": null,
      "outputs": []
    },
    {
      "cell_type": "code",
      "source": [
        "# gcd of two numbers\n",
        "a=int(input(\"enter first number: \"))\n",
        "b=int(input(\"enter second number: \"))\n",
        "k=a if (a<b) else b\n",
        "while True:\n",
        "  if(a%k==0 and b%k==0):\n",
        "    break\n",
        "  k-=1\n",
        "print(k)"
      ],
      "metadata": {
        "id": "VcUnMejcv9cU"
      },
      "execution_count": null,
      "outputs": []
    },
    {
      "cell_type": "code",
      "source": [
        "\n",
        "# fibanocci series\n",
        "n=int(input(\"enter range: \"))\n",
        "a=0\n",
        "b=1\n",
        "print(a,end=\" \")\n",
        "print(b,end=\" \")\n",
        "for i in range(1,n-1):\n",
        "  c=a+b\n",
        "  print(c,end=\" \")\n",
        "  a=b\n",
        "  b=c"
      ],
      "metadata": {
        "id": "00VJPYyNwBnH"
      },
      "execution_count": null,
      "outputs": []
    },
    {
      "cell_type": "code",
      "source": [
        "\n",
        "# palindrome\n",
        "a=int(input(\"enter a number: \"))\n",
        "b=a\n",
        "rev=0\n",
        "while(a!=0):\n",
        "  r=a%10\n",
        "  rev=rev*10+r\n",
        "  a=a//10\n",
        "print(rev)\n",
        "if(rev==b):\n",
        "  print(\"it is a palindrome\")\n",
        "else:\n",
        "  print(\"it is not a palindome\")"
      ],
      "metadata": {
        "id": "-UXhyE7xwE3N"
      },
      "execution_count": null,
      "outputs": []
    },
    {
      "cell_type": "code",
      "source": [
        "\n",
        "# strong numbner\n",
        "n=int(input(\"enter a number: \"))\n",
        "t=n\n",
        "sum=0\n",
        "while(n !=0):\n",
        "  r=n%10\n",
        "  f=1\n",
        "  while(r !=1):\n",
        "    f=f*r\n",
        "    r=r-1\n",
        "  sum=sum+f\n",
        "  n=n//10\n",
        "if(sum==t):\n",
        "  print(\"it is a strong number\")\n",
        "else:\n",
        "  print(\"it is not a strong number\")"
      ],
      "metadata": {
        "id": "ZPVeYSqtwIJJ"
      },
      "execution_count": null,
      "outputs": []
    },
    {
      "cell_type": "code",
      "source": [
        "# perfect number\n",
        "n=int(input(\"enter a number: \"))\n",
        "s=0\n",
        "for i in range(1,(n//2+1)):\n",
        "  if n%i == 0:\n",
        "    s+=i\n",
        "\n",
        "if(s == n):\n",
        "  print(\"perfect number\")\n",
        "else:\n",
        "  print(\"not a perfect number\")"
      ],
      "metadata": {
        "id": "TkJppjPdwNxu"
      },
      "execution_count": null,
      "outputs": []
    },
    {
      "cell_type": "code",
      "source": [
        "#compound interest\n",
        "p=int(input(\" enter Amount :\"))\n",
        "r=int(input(\" enter rate :\"))\n",
        "t=int(input(\" enter time :\"))\n",
        "C=p*pow(1+r/100,t)-p\n",
        "print(\"compound intrest :\",C)"
      ],
      "metadata": {
        "id": "jMjxVjJvwSHE"
      },
      "execution_count": null,
      "outputs": []
    },
    {
      "cell_type": "code",
      "source": [
        "\n",
        "#Accepting 5 different subject marks from user and displaying the grade of the student\n",
        "sub1 =float(input(\"sub 1: \"))\n",
        "sub2 =float(input(\"sub 2: \"))\n",
        "sub3=float(input(\"sub 3: \"))\n",
        "sub4=float(input(\"sub 4: \"))\n",
        "sub5=float(input(\"sub 5: \"))\n",
        "avg=(sub1+sub2+sub3+sub4+sub5)/5\n",
        "if(avg>=90):\n",
        "  print(\"O grade\")\n",
        "elif(avg>=80):\n",
        "  print(\"A+ grade\")\n",
        "elif(avg>=70):\n",
        "  print(\"A GRADE\")\n",
        "elif(avg>=60):\n",
        "  print(\"B GRADE\")\n",
        "elif(avg>=50):\n",
        "  print(\"C GRADE\")\n",
        "else:\n",
        "  print(\"fail\")"
      ],
      "metadata": {
        "id": "2U1fp7EHwUsL"
      },
      "execution_count": null,
      "outputs": []
    }
  ]
}