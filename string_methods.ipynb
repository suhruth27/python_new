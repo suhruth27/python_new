{
  "nbformat": 4,
  "nbformat_minor": 0,
  "metadata": {
    "colab": {
      "name": "string_methods.ipynb",
      "provenance": [],
      "collapsed_sections": [],
      "authorship_tag": "ABX9TyP8DtpJ/RvyPq4JqfyOAjY4",
      "include_colab_link": true
    },
    "kernelspec": {
      "name": "python3",
      "display_name": "Python 3"
    },
    "language_info": {
      "name": "python"
    }
  },
  "cells": [
    {
      "cell_type": "markdown",
      "metadata": {
        "id": "view-in-github",
        "colab_type": "text"
      },
      "source": [
        "<a href=\"https://colab.research.google.com/github/suhruth27/python_new/blob/mod-2/string_methods.ipynb\" target=\"_parent\"><img src=\"https://colab.research.google.com/assets/colab-badge.svg\" alt=\"Open In Colab\"/></a>"
      ]
    },
    {
      "cell_type": "code",
      "execution_count": null,
      "metadata": {
        "id": "X-zUXYC5lZEt",
        "outputId": "7facedb2-b93c-4dfe-edba-1d827198a9b6",
        "colab": {
          "base_uri": "https://localhost:8080/"
        }
      },
      "outputs": [
        {
          "output_type": "stream",
          "name": "stdout",
          "text": [
            "Hello, and welcome to my world.\n",
            "hello, and welcome to my world.\n",
            "hello, and welcome to my world.\n",
            "3\n",
            "True\n",
            "11\n",
            "11\n",
            "False\n",
            "False\n",
            "False\n",
            "hello, and welcome to my world.\n",
            "hello, and welcome to my world.\n"
          ]
        }
      ],
      "source": [
        "txt = \"hello, and welcome to my world.\"\n",
        "print(txt.capitalize()) #Converts the first character to upper case\n",
        "print(txt.casefold()) #Converts string into lower case\n",
        "print(txt.center(20)) #Returns a centered string\n",
        "print(txt.count('e')) #Returns the number of times a specified value occurs in a string\n",
        "print(txt.endswith(\".\")) #Returns true if the string ends with the specified value\n",
        "print(txt.find(\"welcome\")) #Searches the string for a specified value and returns the position of where it was found\n",
        "print(txt.index(\"welcome\")) #Searches the string for a specified value and returns the position of where it was found\n",
        "print(txt.isalnum()) #Returns True if all characters in the string are alphanumeric\n",
        "print(txt.isalpha()) #Returns True if all characters in the string are in the alphabet\n",
        "print(txt.isdecimal()) #Returns True if all characters in the string are decimals\n",
        "print(txt.lower()) #Converts a string into lower case\n",
        "print(txt.strip()) #Returns a trimmed version of the string\n",
        "print(txt.swapcase()) #Swaps cases, lower case becomes upper case and vice versa"
      ]
    }
  ]
}